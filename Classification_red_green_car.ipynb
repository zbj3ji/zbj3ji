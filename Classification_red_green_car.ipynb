{
  "nbformat": 4,
  "nbformat_minor": 0,
  "metadata": {
    "colab": {
      "provenance": [],
      "authorship_tag": "ABX9TyPf9qjnF7sMkoy1fhiHUOgs",
      "include_colab_link": true
    },
    "kernelspec": {
      "name": "python3",
      "display_name": "Python 3"
    },
    "language_info": {
      "name": "python"
    },
    "accelerator": "GPU",
    "gpuClass": "standard"
  },
  "cells": [
    {
      "cell_type": "markdown",
      "metadata": {
        "id": "view-in-github",
        "colab_type": "text"
      },
      "source": [
        "<a href=\"https://colab.research.google.com/github/zbj3ji/zbj3ji/blob/main/Classification_red_green_car.ipynb\" target=\"_parent\"><img src=\"https://colab.research.google.com/assets/colab-badge.svg\" alt=\"Open In Colab\"/></a>"
      ]
    },
    {
      "cell_type": "markdown",
      "source": [
        "# Simple classification problem inspired by following Kaggle Data set\n",
        "\n",
        "VCoR (Vehicle Color Recognition) Dataset\n",
        "Vehicle Color Recognition\n",
        "\n",
        "Dataset source:\n",
        "https://www.kaggle.com/datasets/landrykezebou/vcor-vehicle-color-recognition-dataset"
      ],
      "metadata": {
        "id": "8A0R198vF498"
      }
    },
    {
      "cell_type": "markdown",
      "source": [
        "# Here is an example how to download Kaggle data set and use it in Google Colab\n",
        "Download Data\n",
        "\n",
        "!kaggle competitions download -c 'name-of-competition'\n",
        "\n",
        "Use unzip command to unzip the data:\n",
        "\n",
        "For example,\n",
        "\n",
        "Create a directory named train,\n",
        "\n",
        "!mkdir train\n",
        "\n",
        "unzip train data there,\n",
        "\n",
        "!unzip train.zip -d train "
      ],
      "metadata": {
        "id": "DAToymwXIkqj"
      }
    },
    {
      "cell_type": "code",
      "execution_count": 1,
      "metadata": {
        "id": "Fp6u_KHMFJ_w"
      },
      "outputs": [],
      "source": [
        "!pip install -q kaggle\n",
        "from google.colab import files "
      ]
    },
    {
      "cell_type": "code",
      "source": [
        "#upload JSON from Kaggle\n",
        "files.upload()"
      ],
      "metadata": {
        "id": "32p6ZyqwHgi2"
      },
      "execution_count": null,
      "outputs": []
    },
    {
      "cell_type": "code",
      "source": [
        "!mkdir ~/.kaggle\n",
        "!cp kaggle.json ~/.kaggle/\n",
        "!chmod 600 ~/.kaggle/kaggle.json"
      ],
      "metadata": {
        "id": "MA5l9oa-HwU5"
      },
      "execution_count": 3,
      "outputs": []
    },
    {
      "cell_type": "markdown",
      "source": [
        "Here we list comeptition datasets"
      ],
      "metadata": {
        "id": "X97KiDuUZPxJ"
      }
    },
    {
      "cell_type": "code",
      "source": [
        "!kaggle datasets list"
      ],
      "metadata": {
        "colab": {
          "base_uri": "https://localhost:8080/"
        },
        "id": "X2kkKp9ZH8t8",
        "outputId": "62af1338-795c-4178-b977-b236eac491c7"
      },
      "execution_count": 4,
      "outputs": [
        {
          "output_type": "stream",
          "name": "stdout",
          "text": [
            "ref                                                             title                                                size  lastUpdated          downloadCount  voteCount  usabilityRating  \n",
            "--------------------------------------------------------------  --------------------------------------------------  -----  -------------------  -------------  ---------  ---------------  \n",
            "meirnizri/covid19-dataset                                       COVID-19 Dataset                                      5MB  2022-11-13 15:47:17           4312        139  1.0              \n",
            "akshaydattatraykhare/diabetes-dataset                           Diabetes Dataset                                      9KB  2022-10-06 08:55:25          20798        561  1.0              \n",
            "thedevastator/jobs-dataset-from-glassdoor                       Salary Prediction                                     3MB  2022-11-16 13:52:31           3032         75  1.0              \n",
            "fuarresvij/gdp-growth-around-the-globe                          GDP Growth around the Globe                         122KB  2022-11-22 00:36:28           1110         34  0.9411765        \n",
            "akshaydattatraykhare/data-for-admission-in-the-university       Data for Admission in the University                  4KB  2022-10-27 11:05:45           6783        149  1.0              \n",
            "arthurboari/taylor-swift-spotify-data                           Taylor Swift Spotify Data                            96KB  2022-11-21 13:46:01            689         27  0.9705882        \n",
            "dsfelix/us-stores-sales                                         US Stores Sales                                      84KB  2022-11-08 00:11:06           1683         29  1.0              \n",
            "thedevastator/fashion-products-on-amazon-ratings-prices-and-pa  Fashion Products on Amazon: Ratings, Prices, etc      8MB  2022-11-18 14:28:57           1209         32  1.0              \n",
            "whenamancodes/predict-diabities                                 Predict Diabetes                                      9KB  2022-11-09 12:18:49           3598         71  1.0              \n",
            "prosperchuks/health-dataset                                     Diabetes, Hypertension and Stroke Prediction        597KB  2022-11-23 10:04:03           1261         34  1.0              \n",
            "piterfm/fifa-football-world-cup                                 FIFA Football World Cup                              77KB  2022-12-02 10:10:23           1778         55  1.0              \n",
            "thedevastator/cancer-patients-and-air-pollution-a-new-link       Lung Cancer Prediction                               7KB  2022-11-14 13:40:40           2135         56  1.0              \n",
            "dbarteaux99/stable-diffusion-1-5                                Stable Diffusion 1.5 (normal and EMAonly) with vae    7GB  2022-10-23 15:40:29             88         18  0.9375           \n",
            "whenamancodes/credit-card-customers-prediction                  Credit Card Customers Prediction                    379KB  2022-10-30 13:03:27           4044         84  1.0              \n",
            "mukhazarahmad/worldwide-cancer-data                             Worldwide cancer data                                 2KB  2022-11-13 03:06:15            730         30  1.0              \n",
            "shilongzhuang/-women-clothing-ecommerce-sales-data              🏷️👚 Women Clothing Ecommerce Sales Data               5KB  2022-11-21 01:27:59            626         27  1.0              \n",
            "swaptr/layoffs-2022                                             Layoffs 2022                                         31KB  2022-12-02 15:53:56           2138         53  1.0              \n",
            "thedevastator/empowering-the-next-wave-of-entrepreneurs         US Startup companies over time (Timeseries)         974KB  2022-11-16 16:11:01            819         29  1.0              \n",
            "zvr842/global-pollution-by-counties                             Global pollution by counties                         15KB  2022-11-14 10:57:31           1715         37  0.9705882        \n",
            "dheerajmukati/india-gdp-19602022                                India GDP 1960-2022                                   1KB  2022-11-11 12:08:46           1439         44  1.0              \n"
          ]
        }
      ]
    },
    {
      "cell_type": "markdown",
      "source": [
        "And here we just use a normal dataset from the top of the page by downloading it into Colab"
      ],
      "metadata": {
        "id": "MAH18DX3Xspg"
      }
    },
    {
      "cell_type": "code",
      "source": [
        "!kaggle datasets download landrykezebou/vcor-vehicle-color-recognition-dataset"
      ],
      "metadata": {
        "colab": {
          "base_uri": "https://localhost:8080/"
        },
        "id": "yZ2-qu3fXYVu",
        "outputId": "024b5c75-c309-4a47-eab5-5f4e2b6dbd90"
      },
      "execution_count": 7,
      "outputs": [
        {
          "output_type": "stream",
          "name": "stdout",
          "text": [
            "Downloading vcor-vehicle-color-recognition-dataset.zip to /content\n",
            "100% 572M/574M [00:19<00:00, 33.6MB/s]\n",
            "100% 574M/574M [00:19<00:00, 30.4MB/s]\n"
          ]
        }
      ]
    },
    {
      "cell_type": "markdown",
      "source": [
        "We are going to unpack the content into our directories now"
      ],
      "metadata": {
        "id": "c6xlKdYZYXf4"
      }
    },
    {
      "cell_type": "code",
      "source": [
        "# so let's create directories first\n",
        "!mkdir /content/detection\n",
        "!mkdir /content/detection/train\n",
        "!mkdir /content/detection/val\n",
        "!mkdir /content/detection/test\n",
        "!unzip /content/vcor-vehicle-color-recognition-dataset.zip"
      ],
      "metadata": {
        "id": "SXncUqYyXy_j"
      },
      "execution_count": null,
      "outputs": []
    },
    {
      "cell_type": "code",
      "source": [
        "# here we move just green and red ones into our \"detection\" folder\n",
        "!cp -r \"/content/train/green\" \"/content/detection/train\"\n",
        "!cp -r \"/content/val/green\" \"/content/detection/val\"\n",
        "!cp -r \"/content/test/green\" \"/content/detection/test\"\n",
        "\n",
        "!cp -r \"/content/train/red\" \"/content/detection/train\"\n",
        "!cp -r \"/content/val/red\" \"/content/detection/val\"\n",
        "!cp -r \"/content/test/red\" \"/content/detection/test\"\n"
      ],
      "metadata": {
        "id": "Rdu1ZmQ7Z7HV"
      },
      "execution_count": 11,
      "outputs": []
    },
    {
      "cell_type": "markdown",
      "source": [
        "# Our code related to classification starts from here\n",
        "As usually we start by loading some libraries"
      ],
      "metadata": {
        "id": "27CFriWJqK08"
      }
    },
    {
      "cell_type": "code",
      "source": [
        "import matplotlib.pyplot as plt\n",
        "import numpy as np\n",
        "import tensorflow as tf\n",
        "#import tensorflow_datasets as tfds\n",
        "import os\n",
        "import PIL\n",
        "from tensorflow.keras import layers"
      ],
      "metadata": {
        "id": "sbvRuKREKYAs"
      },
      "execution_count": 12,
      "outputs": []
    },
    {
      "cell_type": "code",
      "source": [
        "# we define our working directories\n",
        "TRAIN_PATH = '/content/detection/train'\n",
        "VAL_PATH = '/content/detection/val'\n",
        "TEST_PATH = '/content/detection/test'\n",
        "\n",
        "# we want to predict just green or red cars\n",
        "BIN_CLASS_OK = 'green'\n",
        "BIN_CLASS_NOK = 'red'"
      ],
      "metadata": {
        "id": "b-lsVw0NMj2G"
      },
      "execution_count": 13,
      "outputs": []
    },
    {
      "cell_type": "code",
      "source": [
        "# load filenames into list\n",
        "train_lst_ok = os.listdir(os.path.join(TRAIN_PATH, BIN_CLASS_OK))\n",
        "train_lst_nok = os.listdir(os.path.join(TRAIN_PATH, BIN_CLASS_NOK))\n",
        "# remove '/' dir from the list \n",
        "train_lst_ok = train_lst_ok[1:]\n",
        "train_lst_nok = train_lst_nok[1:]\n",
        "\n",
        "# print a sample\n",
        "SAMPLE = 0\n",
        "\n",
        "# OK image = green car\n",
        "img_path_train_ok = os.path.join(TRAIN_PATH, BIN_CLASS_OK, train_lst_ok[SAMPLE])\n",
        "#print(img_path_train_ok) \n",
        "\n",
        "# load one image from training set\n",
        "if len(train_lst_ok)>0:\n",
        "  #PIL.Image.open(img_path)\n",
        "  print('Files in the folder', len(train_lst_ok))\n",
        "\n",
        "PIL.Image.open(img_path_train_ok)"
      ],
      "metadata": {
        "colab": {
          "base_uri": "https://localhost:8080/",
          "height": 190
        },
        "id": "BplFWOfvOG1q",
        "outputId": "b95006f1-431f-461d-b6ed-0a6f2eb00346"
      },
      "execution_count": 48,
      "outputs": [
        {
          "output_type": "stream",
          "name": "stdout",
          "text": [
            "Files in the folder 562\n"
          ]
        },
        {
          "output_type": "execute_result",
          "data": {
            "text/plain": [
              "<PIL.JpegImagePlugin.JpegImageFile image mode=RGB size=262x155 at 0x7FF53017D9A0>"
            ],
            "image/png": "[encoded data removed]"
          },
          "metadata": {},
          "execution_count": 48
        }
      ]
    },
    {
      "cell_type": "code",
      "source": [
        "# NOK image = red car\n",
        "img_path_train_nok = os.path.join(TRAIN_PATH, BIN_CLASS_NOK, train_lst_nok[SAMPLE])\n",
        "#print(img_path_train_nok) \n",
        "\n",
        "# load one image from training set\n",
        "if len(train_lst_nok)>0:\n",
        "  #PIL.Image.open(img_path_train_nok)\n",
        "  print('Files in the folder', len(train_lst_nok))\n",
        "\n",
        "PIL.Image.open(img_path_train_nok)\n",
        "\n",
        "#print(train_lst_ok)"
      ],
      "metadata": {
        "colab": {
          "base_uri": "https://localhost:8080/",
          "height": 95
        },
        "id": "_l0vAnnze5KR",
        "outputId": "10987b53-7ddd-4c53-f04e-ff9f0d9d8f4b"
      },
      "execution_count": 49,
      "outputs": [
        {
          "output_type": "stream",
          "name": "stdout",
          "text": [
            "Files in the folder 636\n"
          ]
        },
        {
          "output_type": "execute_result",
          "data": {
            "text/plain": [
              "<PIL.JpegImagePlugin.JpegImageFile image mode=RGB size=125x60 at 0x7FF5198EE280>"
            ],
            "image/png": "[encoded data removed]"
          },
          "metadata": {},
          "execution_count": 49
        }
      ]
    },
    {
      "cell_type": "code",
      "source": [
        "# here we set some parameters\n",
        "\n",
        "BATCH_SIZE = 30\n",
        "# fixed width/height to reshape our images into same resolution/dimension as an input of our CNN\n",
        "IMG_HEIGHT = 80\n",
        "IMG_WIDTH = IMG_HEIGHT * 2\n",
        "\n",
        "# not used in theis tutorial\n",
        "#resize_and_rescale = tf.keras.Sequential([\n",
        "#  layers.Resizing(IMG_WIDTH, IMG_HEIGHT),\n",
        "#  layers.Rescaling(1./255)\n",
        "#])"
      ],
      "metadata": {
        "id": "3e0MbWIhLGlQ"
      },
      "execution_count": 16,
      "outputs": []
    },
    {
      "cell_type": "code",
      "source": [
        "# Assign training and validation set directories\n",
        "base_dir = '/content/detection'\n",
        "train_dir = os.path.join(base_dir, 'train')\n",
        "validation_dir = os.path.join(base_dir, 'val')\n",
        "\n",
        "# Directory with training cat pictures\n",
        "train_ok_dir = os.path.join(train_dir, 'green')\n",
        "\n",
        "# Directory with training dog pictures\n",
        "train_nok_dir = os.path.join(train_dir, 'red')\n",
        "\n",
        "# Directory with validation cat pictures\n",
        "validation_ok_dir = os.path.join(validation_dir, 'green')\n",
        "\n",
        "# Directory with validation dog pictures\n",
        "validation_nok_dir = os.path.join(validation_dir, 'red')"
      ],
      "metadata": {
        "id": "Qz6u7WMcWT21"
      },
      "execution_count": 17,
      "outputs": []
    },
    {
      "cell_type": "code",
      "source": [
        "# we just check what we assigned above\n",
        "print(base_dir)\n",
        "print(train_dir)\n",
        "print(validation_dir)\n",
        "print(train_ok_dir)\n",
        "print(train_nok_dir)\n",
        "print(validation_ok_dir)\n",
        "print(validation_nok_dir)"
      ],
      "metadata": {
        "colab": {
          "base_uri": "https://localhost:8080/"
        },
        "id": "EZw4exc3Vtv-",
        "outputId": "ad9e6289-4e75-4023-d276-f30270548d50"
      },
      "execution_count": 18,
      "outputs": [
        {
          "output_type": "stream",
          "name": "stdout",
          "text": [
            "/content/detection\n",
            "/content/detection/train\n",
            "/content/detection/val\n",
            "/content/detection/train/green\n",
            "/content/detection/train/red\n",
            "/content/detection/val/green\n",
            "/content/detection/val/red\n"
          ]
        }
      ]
    },
    {
      "cell_type": "markdown",
      "source": [
        "# Image Data Generator\n",
        "Image augmentation is already considered, so we use our real images for the augmentation in PC memory (fliping, rotation, etc.) to virtually enlarge our small dataset to achive better results"
      ],
      "metadata": {
        "id": "T9gtM9qErZYg"
      }
    },
    {
      "cell_type": "code",
      "source": [
        "from tensorflow.keras.preprocessing.image import ImageDataGenerator\n",
        "\n",
        "# All images will be rescaled by 1./255\n",
        "train_datagen = ImageDataGenerator(\n",
        "    rescale=1./255,\n",
        "    rotation_range=40,\n",
        "    width_shift_range=0.2,\n",
        "    height_shift_range=0.2,\n",
        "    shear_range=0.2,\n",
        "    zoom_range=0.2,\n",
        "    horizontal_flip=True,\n",
        "    fill_mode='nearest')\n",
        "\n",
        "test_datagen = ImageDataGenerator(\n",
        "    rescale=1./255)\n",
        "\n",
        "# Flow training images in batches of BATCH_SIZE using train_datagen generator\n",
        "train_generator = train_datagen.flow_from_directory(\n",
        "        train_dir,  # This is the source directory for training images\n",
        "        target_size=(IMG_WIDTH, IMG_HEIGHT),  # All images will be resized to 150x150\n",
        "        batch_size=BATCH_SIZE,\n",
        "        # Since we use binary_crossentropy loss, we need binary labels\n",
        "        class_mode='binary')\n",
        "\n",
        "# Flow validation images in batches of BATCH_SIZE using test_datagen generator\n",
        "validation_generator = test_datagen.flow_from_directory(\n",
        "        validation_dir,\n",
        "        target_size=(IMG_WIDTH, IMG_HEIGHT),\n",
        "        batch_size=BATCH_SIZE,\n",
        "        class_mode='binary')"
      ],
      "metadata": {
        "colab": {
          "base_uri": "https://localhost:8080/"
        },
        "id": "DUnzjIGkYPE2",
        "outputId": "e687049d-19fa-404e-d74a-edef2a0aba6c"
      },
      "execution_count": 24,
      "outputs": [
        {
          "output_type": "stream",
          "name": "stdout",
          "text": [
            "Found 1200 images belonging to 2 classes.\n",
            "Found 256 images belonging to 2 classes.\n"
          ]
        }
      ]
    },
    {
      "cell_type": "markdown",
      "source": [
        "This is our model architecture, if this is **binary classification problem** we use 'Dense(1, activation='sigmoid')' as our last layer + 'binary_crossentropy' as our loss function. \n",
        "In case we'd like to compare more than 2 classes (e.g. to predict other colors from the dataset) we change here our last layer by this: 'Dense(our_classes, activation='softmax')' + loss will be here 'sparse_crossentropy'\n",
        "'our_class' will be then the amount of classes we use e.g. if we want to have 5 different car colors then this number will be 5."
      ],
      "metadata": {
        "id": "X7nsEH8nsBKR"
      }
    },
    {
      "cell_type": "code",
      "source": [
        "import tensorflow as tf\n",
        "from tensorflow.keras.optimizers import RMSprop\n",
        "\n",
        "def create_model():\n",
        "  '''Creates a CNN with 4 convolutional layers'''\n",
        "  model = tf.keras.models.Sequential([\n",
        "      #resize_and_rescale(input_shape=(150, 150, 3)),\n",
        "      #tf.keras.layers.Conv2D(32, (3,3), activation='relu'),\n",
        "      tf.keras.layers.Conv2D(32, (3,3), padding='same', activation='relu', input_shape=(IMG_WIDTH, IMG_HEIGHT, 3)),\n",
        "      tf.keras.layers.MaxPooling2D(2, 2),\n",
        "      tf.keras.layers.Conv2D(64, (3,3), padding='same', activation='relu'),\n",
        "      tf.keras.layers.MaxPooling2D(2,2),\n",
        "      tf.keras.layers.Dropout(0.2),\n",
        "      tf.keras.layers.Conv2D(128, (3,3), padding='same', activation='relu'),\n",
        "      tf.keras.layers.MaxPooling2D(2,2),\n",
        "      tf.keras.layers.Conv2D(128, (3,3), padding='same', activation='relu'),\n",
        "      tf.keras.layers.MaxPooling2D(2,2),\n",
        "      tf.keras.layers.Flatten(),\n",
        "      tf.keras.layers.Dense(512, activation='relu'),\n",
        "      tf.keras.layers.Dropout(0.2),\n",
        "      tf.keras.layers.Dense(1, activation='sigmoid')\n",
        "  ])\n",
        "\n",
        "  model.compile(loss='binary_crossentropy',\n",
        "                optimizer=RMSprop(learning_rate=1e-4),\n",
        "                metrics=['accuracy'])\n",
        "  \n",
        "  return model"
      ],
      "metadata": {
        "id": "FuochdomWugv"
      },
      "execution_count": 23,
      "outputs": []
    },
    {
      "cell_type": "markdown",
      "source": [
        "# Our CNN model"
      ],
      "metadata": {
        "id": "q13nDUMLrhsp"
      }
    },
    {
      "cell_type": "code",
      "source": [
        "# Constant for epochs\n",
        "EPOCHS = 20\n",
        "\n",
        "# Create a new model\n",
        "model = create_model()\n",
        "\n",
        "# Train the model\n",
        "history = model.fit(\n",
        "      train_generator,\n",
        "      steps_per_epoch=40,  \n",
        "      # 1200 = 30 * 40 \n",
        "      epochs=EPOCHS,\n",
        "      validation_data=validation_generator,\n",
        "      validation_steps=7,\n",
        "      # 210 = 30 * 7\n",
        "      verbose=2)"
      ],
      "metadata": {
        "id": "T1DSFceHZkCU"
      },
      "execution_count": null,
      "outputs": []
    },
    {
      "cell_type": "markdown",
      "source": [
        "We plot our learnng procedure to check overfitting/underfitting, progress, etc."
      ],
      "metadata": {
        "id": "U6Md7eDitVxD"
      }
    },
    {
      "cell_type": "code",
      "source": [
        "import matplotlib.pyplot as plt\n",
        "\n",
        "def plot_loss_acc(history):\n",
        "  '''Plots the training and validation loss and accuracy from a history object'''\n",
        "  acc = history.history['accuracy']\n",
        "  val_acc = history.history['val_accuracy']\n",
        "  loss = history.history['loss']\n",
        "  val_loss = history.history['val_loss']\n",
        "\n",
        "  epochs = range(len(acc))\n",
        "\n",
        "  plt.plot(epochs, acc, 'bo', label='Training accuracy')\n",
        "  plt.plot(epochs, val_acc, 'b', label='Validation accuracy')\n",
        "  plt.title('Training and validation accuracy')\n",
        "\n",
        "  plt.figure()\n",
        "\n",
        "  plt.plot(epochs, loss, 'bo', label='Training Loss')\n",
        "  plt.plot(epochs, val_loss, 'b', label='Validation Loss')\n",
        "  plt.title('Training and validation loss')\n",
        "  plt.legend()\n",
        "\n",
        "  plt.show()"
      ],
      "metadata": {
        "id": "IO0fK_j3hkP0"
      },
      "execution_count": 26,
      "outputs": []
    },
    {
      "cell_type": "code",
      "source": [
        "# Plot training results\n",
        "plot_loss_acc(history)"
      ],
      "metadata": {
        "id": "WOU-_U0ohn8l",
        "colab": {
          "base_uri": "https://localhost:8080/",
          "height": 545
        },
        "outputId": "fb5cada2-2796-4703-9e8d-dc90885f0344"
      },
      "execution_count": 27,
      "outputs": [
        {
          "output_type": "display_data",
          "data": {
            "text/plain": [
              "<Figure size 432x288 with 1 Axes>"
            ],
            "image/png": "[encoded data removed]"
          },
          "metadata": {
            "needs_background": "light"
          }
        },
        {
          "output_type": "display_data",
          "data": {
            "text/plain": [
              "<Figure size 432x288 with 1 Axes>"
            ],
            "image/png": "[encoded data removed]"
          },
          "metadata": {
            "needs_background": "light"
          }
        }
      ]
    },
    {
      "cell_type": "markdown",
      "source": [
        "# Prediction test by using testing data\n",
        "Here we use our test green car list to check our predictions"
      ],
      "metadata": {
        "id": "j_XD4CuKmZTe"
      }
    },
    {
      "cell_type": "code",
      "source": [
        "green_test = os.listdir('/content/detection/test/green')\n",
        "green_test"
      ],
      "metadata": {
        "id": "vtqdfHdpg8ZJ"
      },
      "execution_count": null,
      "outputs": []
    },
    {
      "cell_type": "code",
      "source": [
        "import numpy as np\n",
        "\n",
        "from google.colab import files\n",
        "from tensorflow.keras.utils import load_img, img_to_array\n",
        "\n",
        "#uploaded=files.upload()\n",
        "cntr_red = cntr_green = 0\n",
        "bad_decision_files = []\n",
        "for fn in green_test:\n",
        " \n",
        "  # predicting images\n",
        "  path='/content/test/green/' + fn\n",
        "  img=load_img(path, target_size=(IMG_WIDTH, IMG_HEIGHT))\n",
        "  \n",
        "  x=img_to_array(img)\n",
        "  x /= 255\n",
        "  x=np.expand_dims(x, axis=0)\n",
        "  images = np.vstack([x])\n",
        "  \n",
        "  classes = model.predict(images, batch_size=20)\n",
        "  \n",
        "  print(classes[0])\n",
        "  \n",
        "  if classes[0]>0.5:\n",
        "    print(fn + \" is a red car\")\n",
        "    bad_decision_files.append(fn)\n",
        "    cntr_red += 1\n",
        "  else:\n",
        "    print(fn + \" is a green car\")\n",
        "    cntr_green += 1\n",
        "\n",
        "\n",
        "print('Guest green ones:', cntr_green)\n",
        "print('Guest red ones:', cntr_red) #bb09c84231.jpg\n",
        "print('Failure rate:', (cntr_red/(cntr_green + cntr_red))*100 )\n",
        "\n",
        "print('The list of bad decision files:', bad_decision_files)"
      ],
      "metadata": {
        "colab": {
          "base_uri": "https://localhost:8080/"
        },
        "id": "D6zEGL_5h9ai",
        "outputId": "7d194230-1146-4a89-dbb3-e0900102aefa"
      },
      "execution_count": 37,
      "outputs": [
        {
          "output_type": "stream",
          "name": "stdout",
          "text": [
            "1/1 [==============================] - 0s 23ms/step\n",
            "[1.801519e-05]\n",
            "86a0219951.jpg is a green car\n",
            "1/1 [==============================] - 0s 39ms/step\n",
            "[1.7128927e-05]\n",
            "0b5c800dd8.jpg is a green car\n",
            "1/1 [==============================] - 0s 58ms/step\n",
            "[9.416271e-06]\n",
            "6807063e3b.jpg is a green car\n",
            "1/1 [==============================] - 0s 28ms/step\n",
            "[0.00213576]\n",
            "099aee3195.jpg is a green car\n",
            "1/1 [==============================] - 0s 28ms/step\n",
            "[1.4015696e-05]\n",
            "0174bfb8dd.jpg is a green car\n",
            "1/1 [==============================] - 0s 40ms/step\n",
            "[0.00309827]\n",
            "1acad4c6a5.jpg is a green car\n",
            "1/1 [==============================] - 0s 19ms/step\n",
            "[1.6626252e-08]\n",
            "2f6b3badf8.jpg is a green car\n",
            "1/1 [==============================] - 0s 28ms/step\n",
            "[0.00418118]\n",
            "7b81c21069.jpg is a green car\n",
            "1/1 [==============================] - 0s 16ms/step\n",
            "[1.9753163e-05]\n",
            "151150bbb1.jpg is a green car\n",
            "1/1 [==============================] - 0s 21ms/step\n",
            "[0.004497]\n",
            "cbc90305e3.jpg is a green car\n",
            "1/1 [==============================] - 0s 16ms/step\n",
            "[5.1062794e-05]\n",
            "07f848564a.jpg is a green car\n",
            "1/1 [==============================] - 0s 22ms/step\n",
            "[7.128164e-05]\n",
            "4fae55c80c.jpg is a green car\n",
            "1/1 [==============================] - 0s 17ms/step\n",
            "[0.00970281]\n",
            "4bef7bbfd0.jpg is a green car\n",
            "1/1 [==============================] - 0s 20ms/step\n",
            "[0.0019307]\n",
            "3d0f92031f.jpg is a green car\n",
            "1/1 [==============================] - 0s 19ms/step\n",
            "[7.0431092e-06]\n",
            "e75ef7c8b8.jpg is a green car\n",
            "1/1 [==============================] - 0s 16ms/step\n",
            "[2.4326626e-05]\n",
            "50bb5f0abc.jpg is a green car\n",
            "1/1 [==============================] - 0s 18ms/step\n",
            "[9.81169e-05]\n",
            "7a9edbc580.jpg is a green car\n",
            "1/1 [==============================] - 0s 16ms/step\n",
            "[0.00266798]\n",
            "791f99e91b.jpg is a green car\n",
            "1/1 [==============================] - 0s 15ms/step\n",
            "[0.28797683]\n",
            "7ffa14bb51.jpg is a green car\n",
            "1/1 [==============================] - 0s 18ms/step\n",
            "[1.6740058e-05]\n",
            "4b4ef9186a.jpg is a green car\n",
            "1/1 [==============================] - 0s 18ms/step\n",
            "[8.420608e-05]\n",
            "17632bf148.jpg is a green car\n",
            "1/1 [==============================] - 0s 25ms/step\n",
            "[0.00203998]\n",
            "0a5bceb5ed.jpg is a green car\n",
            "1/1 [==============================] - 0s 18ms/step\n",
            "[4.584154e-08]\n",
            "7ba7376d2b.jpg is a green car\n",
            "1/1 [==============================] - 0s 19ms/step\n",
            "[3.836909e-08]\n",
            "d528d5fbb1.jpg is a green car\n",
            "1/1 [==============================] - 0s 19ms/step\n",
            "[0.00060398]\n",
            "df940057ce.jpg is a green car\n",
            "1/1 [==============================] - 0s 20ms/step\n",
            "[0.00202784]\n",
            "ee34fc7f25.jpg is a green car\n",
            "1/1 [==============================] - 0s 15ms/step\n",
            "[0.01250067]\n",
            "373a84b5e7.jpg is a green car\n",
            "1/1 [==============================] - 0s 20ms/step\n",
            "[9.310588e-05]\n",
            "396caa7031.jpg is a green car\n",
            "1/1 [==============================] - 0s 18ms/step\n",
            "[4.422845e-06]\n",
            "7b12becb2c.jpg is a green car\n",
            "1/1 [==============================] - 0s 17ms/step\n",
            "[0.00654369]\n",
            "26ca7cfea7.jpg is a green car\n",
            "1/1 [==============================] - 0s 20ms/step\n",
            "[0.00064254]\n",
            "1d8c22e15a.jpg is a green car\n",
            "1/1 [==============================] - 0s 18ms/step\n",
            "[0.035382]\n",
            "5e9c57e3f7.jpg is a green car\n",
            "1/1 [==============================] - 0s 19ms/step\n",
            "[0.00055844]\n",
            "51c7dd21ec.jpg is a green car\n",
            "1/1 [==============================] - 0s 18ms/step\n",
            "[0.00242517]\n",
            "613a0f4105.jpg is a green car\n",
            "1/1 [==============================] - 0s 16ms/step\n",
            "[1.0824773e-05]\n",
            "d36f052367.jpg is a green car\n",
            "1/1 [==============================] - 0s 24ms/step\n",
            "[0.00017542]\n",
            "e3508cbae1.jpg is a green car\n",
            "1/1 [==============================] - 0s 16ms/step\n",
            "[0.00708305]\n",
            "9d7735d456.jpg is a green car\n",
            "1/1 [==============================] - 0s 15ms/step\n",
            "[0.00085218]\n",
            "cdd6f6abe6.jpg is a green car\n",
            "1/1 [==============================] - 0s 17ms/step\n",
            "[0.00594924]\n",
            "d3fb5450c3.jpg is a green car\n",
            "1/1 [==============================] - 0s 15ms/step\n",
            "[1.6892425e-05]\n",
            "5b239ac624.jpg is a green car\n",
            "1/1 [==============================] - 0s 17ms/step\n",
            "[2.003887e-05]\n",
            "e6213f6cdb.jpg is a green car\n",
            "1/1 [==============================] - 0s 19ms/step\n",
            "[0.0165365]\n",
            "96a6c09c80.jpg is a green car\n",
            "1/1 [==============================] - 0s 14ms/step\n",
            "[5.4519514e-05]\n",
            "49efa1724c.jpg is a green car\n",
            "1/1 [==============================] - 0s 17ms/step\n",
            "[0.00181602]\n",
            "66f040fa36.jpg is a green car\n",
            "1/1 [==============================] - 0s 17ms/step\n",
            "[4.688782e-05]\n",
            "2066af6dc4.jpg is a green car\n",
            "1/1 [==============================] - 0s 16ms/step\n",
            "[7.316813e-05]\n",
            "c6f5a824e0.jpg is a green car\n",
            "1/1 [==============================] - 0s 27ms/step\n",
            "[1.9107028e-06]\n",
            "1ed6e614ae.jpg is a green car\n",
            "1/1 [==============================] - 0s 15ms/step\n",
            "[9.537974e-08]\n",
            "b2805a33f5.jpg is a green car\n",
            "1/1 [==============================] - 0s 15ms/step\n",
            "[5.9542366e-08]\n",
            "6b64efcffd.jpg is a green car\n",
            "1/1 [==============================] - 0s 17ms/step\n",
            "[9.882325e-07]\n",
            "90f22d323f.jpg is a green car\n",
            "1/1 [==============================] - 0s 16ms/step\n",
            "[0.00032421]\n",
            "fe456be170.jpg is a green car\n",
            "1/1 [==============================] - 0s 18ms/step\n",
            "[0.00060198]\n",
            "897d4a300f.jpg is a green car\n",
            "1/1 [==============================] - 0s 20ms/step\n",
            "[4.918464e-05]\n",
            "9f99025e1d.jpg is a green car\n",
            "1/1 [==============================] - 0s 16ms/step\n",
            "[0.0064573]\n",
            "9f7a45c8b8.jpg is a green car\n",
            "1/1 [==============================] - 0s 17ms/step\n",
            "[8.951339e-11]\n",
            "5cf2f60e34.jpg is a green car\n",
            "1/1 [==============================] - 0s 16ms/step\n",
            "[0.01397739]\n",
            "7ab5560b8b - Copy.jpg is a green car\n",
            "1/1 [==============================] - 0s 17ms/step\n",
            "[0.01774001]\n",
            "43b4542805.jpg is a green car\n",
            "1/1 [==============================] - 0s 22ms/step\n",
            "[1.1410847e-05]\n",
            "650c865454.jpg is a green car\n",
            "1/1 [==============================] - 0s 15ms/step\n",
            "[0.00117467]\n",
            "1d7f565673.jpg is a green car\n",
            "1/1 [==============================] - 0s 17ms/step\n",
            "[2.2180662e-05]\n",
            "d7ff601ccc - Copy.jpg is a green car\n",
            "1/1 [==============================] - 0s 16ms/step\n",
            "[0.00734005]\n",
            "2a3578bbae - Copy.jpg is a green car\n",
            "1/1 [==============================] - 0s 19ms/step\n",
            "[3.7579384e-06]\n",
            "077494412e.jpg is a green car\n",
            "1/1 [==============================] - 0s 18ms/step\n",
            "[0.00013848]\n",
            "0cc0f5ad2d.jpg is a green car\n",
            "1/1 [==============================] - 0s 18ms/step\n",
            "[9.722857e-10]\n",
            "4628d52721.jpg is a green car\n",
            "1/1 [==============================] - 0s 18ms/step\n",
            "[3.3879893e-05]\n",
            "9228b09654.jpg is a green car\n",
            "1/1 [==============================] - 0s 17ms/step\n",
            "[0.00319776]\n",
            "95b873b66e.jpg is a green car\n",
            "1/1 [==============================] - 0s 16ms/step\n",
            "[6.815534e-06]\n",
            "774674a18b.jpg is a green car\n",
            "1/1 [==============================] - 0s 22ms/step\n",
            "[3.2494572e-05]\n",
            "31d0875a34.jpg is a green car\n",
            "1/1 [==============================] - 0s 20ms/step\n",
            "[0.02196702]\n",
            "2638c942da.jpg is a green car\n",
            "1/1 [==============================] - 0s 27ms/step\n",
            "[0.01287318]\n",
            "e4fc43fbac.jpg is a green car\n",
            "1/1 [==============================] - 0s 18ms/step\n",
            "[0.00392986]\n",
            "2792577c0a.jpg is a green car\n",
            "1/1 [==============================] - 0s 19ms/step\n",
            "[0.00035428]\n",
            "9b0a749209.jpg is a green car\n",
            "1/1 [==============================] - 0s 20ms/step\n",
            "[9.0449697e-07]\n",
            "1b203c6b70.jpg is a green car\n",
            "1/1 [==============================] - 0s 17ms/step\n",
            "[2.9062177e-05]\n",
            "566c05bf37.jpg is a green car\n",
            "1/1 [==============================] - 0s 18ms/step\n",
            "[0.01594444]\n",
            "252fe9fbe8 - Copy.jpg is a green car\n",
            "1/1 [==============================] - 0s 16ms/step\n",
            "[2.665365e-06]\n",
            "963b29c7b7.jpg is a green car\n",
            "1/1 [==============================] - 0s 17ms/step\n",
            "[1.736132e-05]\n",
            "9b53ab52fa.jpg is a green car\n",
            "1/1 [==============================] - 0s 16ms/step\n",
            "[2.5978023e-08]\n",
            "d103c9f0cc.jpg is a green car\n",
            "1/1 [==============================] - 0s 17ms/step\n",
            "[2.1306057e-06]\n",
            "7fdecd10a4.jpg is a green car\n",
            "1/1 [==============================] - 0s 20ms/step\n",
            "[2.8516627e-09]\n",
            "1fada4c0a8.jpg is a green car\n",
            "1/1 [==============================] - 0s 18ms/step\n",
            "[9.039098e-06]\n",
            "e625030faa.jpg is a green car\n",
            "1/1 [==============================] - 0s 16ms/step\n",
            "[1.2969114e-05]\n",
            "d752ca4d63.jpg is a green car\n",
            "1/1 [==============================] - 0s 19ms/step\n",
            "[0.00027846]\n",
            "865a437742.jpg is a green car\n",
            "1/1 [==============================] - 0s 19ms/step\n",
            "[8.695388e-06]\n",
            "5190c3bcbb.jpg is a green car\n",
            "1/1 [==============================] - 0s 16ms/step\n",
            "[0.00159872]\n",
            "1385d23c97.jpg is a green car\n",
            "1/1 [==============================] - 0s 17ms/step\n",
            "[0.00149604]\n",
            "e5657997ac.jpg is a green car\n",
            "1/1 [==============================] - 0s 17ms/step\n",
            "[7.361836e-05]\n",
            "680dec6895.jpg is a green car\n",
            "1/1 [==============================] - 0s 16ms/step\n",
            "[0.01415981]\n",
            "6c7d8eeadb.jpg is a green car\n",
            "1/1 [==============================] - 0s 21ms/step\n",
            "[5.263656e-05]\n",
            "1ed83be18e.jpg is a green car\n",
            "1/1 [==============================] - 0s 24ms/step\n",
            "[6.915834e-06]\n",
            "e34bfa3329.jpg is a green car\n",
            "1/1 [==============================] - 0s 15ms/step\n",
            "[0.00017464]\n",
            "14b2939176.jpg is a green car\n",
            "1/1 [==============================] - 0s 15ms/step\n",
            "[0.00341649]\n",
            "05a6a4302a.jpg is a green car\n",
            "1/1 [==============================] - 0s 17ms/step\n",
            "[5.240571e-06]\n",
            "601d951b4f.jpg is a green car\n",
            "1/1 [==============================] - 0s 19ms/step\n",
            "[4.586636e-05]\n",
            "d2a80c5e06.jpg is a green car\n",
            "1/1 [==============================] - 0s 17ms/step\n",
            "[0.00012591]\n",
            "e0acd74b58.jpg is a green car\n",
            "1/1 [==============================] - 0s 17ms/step\n",
            "[4.0799196e-07]\n",
            "d3a6ec2ea9.jpg is a green car\n",
            "1/1 [==============================] - 0s 18ms/step\n",
            "[0.00065073]\n",
            "a619b69be6.jpg is a green car\n",
            "1/1 [==============================] - 0s 18ms/step\n",
            "[0.00034891]\n",
            "161cc3db12.jpg is a green car\n",
            "1/1 [==============================] - 0s 16ms/step\n",
            "[8.5412765e-08]\n",
            "044c3fb74a.jpg is a green car\n",
            "1/1 [==============================] - 0s 21ms/step\n",
            "[2.9098821e-09]\n",
            "a0d92655f6.jpg is a green car\n",
            "1/1 [==============================] - 0s 15ms/step\n",
            "[0.00066761]\n",
            "0be657cf88.jpg is a green car\n",
            "1/1 [==============================] - 0s 16ms/step\n",
            "[5.064681e-08]\n",
            "0ab0ae24e8.jpg is a green car\n",
            "1/1 [==============================] - 0s 17ms/step\n",
            "[1.1878789e-06]\n",
            "501a92a709.jpg is a green car\n",
            "1/1 [==============================] - 0s 16ms/step\n",
            "[0.00155557]\n",
            "5fd4779be8.jpg is a green car\n",
            "1/1 [==============================] - 0s 15ms/step\n",
            "[2.277431e-05]\n",
            "ad69d345d9.jpg is a green car\n",
            "1/1 [==============================] - 0s 17ms/step\n",
            "[0.00015739]\n",
            "85d057ef7c.jpg is a green car\n",
            "1/1 [==============================] - 0s 17ms/step\n",
            "[0.00076071]\n",
            "5b0c894f7b.jpg is a green car\n",
            "1/1 [==============================] - 0s 18ms/step\n",
            "[0.03176025]\n",
            "eda2a76900.jpg is a green car\n",
            "1/1 [==============================] - 0s 20ms/step\n",
            "[0.00067868]\n",
            "1c8cb508d5.jpg is a green car\n",
            "1/1 [==============================] - 0s 18ms/step\n",
            "[8.086841e-08]\n",
            "474ad00ff9.jpg is a green car\n",
            "1/1 [==============================] - 0s 20ms/step\n",
            "[2.2389482e-05]\n",
            "31745746a1.jpg is a green car\n",
            "1/1 [==============================] - 0s 15ms/step\n",
            "[0.9990796]\n",
            "bb09c84231.jpg is a red car\n",
            "1/1 [==============================] - 0s 19ms/step\n",
            "[0.00269821]\n",
            "9c6544c3cd.jpg is a green car\n",
            "1/1 [==============================] - 0s 15ms/step\n",
            "[0.00026144]\n",
            "a114606d81.jpg is a green car\n",
            "1/1 [==============================] - 0s 20ms/step\n",
            "[3.698717e-10]\n",
            "51a99cd620.jpg is a green car\n",
            "1/1 [==============================] - 0s 20ms/step\n",
            "[2.5128995e-05]\n",
            "4bfdd697c2.jpg is a green car\n",
            "1/1 [==============================] - 0s 16ms/step\n",
            "[3.0132564e-05]\n",
            "72bc845603.jpg is a green car\n",
            "1/1 [==============================] - 0s 19ms/step\n",
            "[0.00913342]\n",
            "6b283952d2.jpg is a green car\n",
            "1/1 [==============================] - 0s 15ms/step\n",
            "[3.4485354e-05]\n",
            "8fc4187dc0.jpg is a green car\n",
            "1/1 [==============================] - 0s 16ms/step\n",
            "[5.705664e-05]\n",
            "2982160f2d.jpg is a green car\n",
            "1/1 [==============================] - 0s 18ms/step\n",
            "[0.00303244]\n",
            "ca230c9a71.jpg is a green car\n",
            "Guest green ones: 120\n",
            "Guest red ones: 1\n",
            "Failure rate: 0.8264462809917356\n",
            "The list of bad decision files: ['bb09c84231.jpg']\n"
          ]
        }
      ]
    },
    {
      "cell_type": "code",
      "source": [
        "# Let's have a look, how the bad decision images look like\n",
        "\n",
        "if len(bad_decision_files)>0:\n",
        "\n",
        "  img_path = os.path.join(TEST_PATH, BIN_CLASS_OK, bad_decision_files[0])\n",
        "  print(img_path) \n",
        "\n",
        "PIL.Image.open(img_path)\n",
        "\n"
      ],
      "metadata": {
        "colab": {
          "base_uri": "https://localhost:8080/",
          "height": 78
        },
        "id": "dg3yFCxhlcK2",
        "outputId": "6be3b9a4-080b-472d-d393-a2fc758b26f3"
      },
      "execution_count": 40,
      "outputs": [
        {
          "output_type": "stream",
          "name": "stdout",
          "text": [
            "/content/detection/test/green/bb09c84231.jpg\n"
          ]
        },
        {
          "output_type": "execute_result",
          "data": {
            "text/plain": [
              "<PIL.JpegImagePlugin.JpegImageFile image mode=RGB size=230x43 at 0x7FF51ADAD2B0>"
            ],
            "image/png": "[encoded data removed]"
          },
          "metadata": {},
          "execution_count": 40
        }
      ]
    },
    {
      "cell_type": "markdown",
      "source": [
        "Let's check our red car testing list"
      ],
      "metadata": {
        "id": "v19NHTdLmp3c"
      }
    },
    {
      "cell_type": "code",
      "source": [
        "red_test = os.listdir('/content/detection/test/red')\n",
        "red_test"
      ],
      "metadata": {
        "id": "Vqw2ax-wm5R_"
      },
      "execution_count": null,
      "outputs": []
    },
    {
      "cell_type": "code",
      "source": [
        "cntr_red = cntr_green = 0\n",
        "bad_decision_files = []\n",
        "for fn in red_test:\n",
        " \n",
        "  # predicting images\n",
        "  path='/content/test/red/' + fn\n",
        "  img=load_img(path, target_size=(IMG_WIDTH, IMG_HEIGHT))\n",
        "  \n",
        "  x=img_to_array(img)\n",
        "  x /= 255\n",
        "  x=np.expand_dims(x, axis=0)\n",
        "  images = np.vstack([x])\n",
        "  \n",
        "  classes = model.predict(images, batch_size=20)\n",
        "  \n",
        "  print(classes[0])\n",
        "  \n",
        "  if classes[0]>0.5:\n",
        "    print(fn + \" is a red car\")\n",
        "    cntr_red += 1\n",
        "  else:\n",
        "    print(fn + \" is a green car\")\n",
        "    bad_decision_files.append(fn)\n",
        "    cntr_green += 1\n",
        "\n",
        "\n",
        "print('Guest green ones:', cntr_green)\n",
        "print('Guest red ones:', cntr_red) #bb09c84231.jpg\n",
        "print('Failure rate:', (cntr_green/(cntr_green + cntr_red))*100 )\n",
        "\n",
        "print('The list of bad decision files:', bad_decision_files)"
      ],
      "metadata": {
        "colab": {
          "base_uri": "https://localhost:8080/"
        },
        "id": "kAH2KvZmmnvB",
        "outputId": "82665af1-1d7c-4c85-d6c9-a5548b5c299d"
      },
      "execution_count": 45,
      "outputs": [
        {
          "output_type": "stream",
          "name": "stdout",
          "text": [
            "1/1 [==============================] - 0s 17ms/step\n",
            "[1.]\n",
            "5661898df1.jpg is a red car\n",
            "1/1 [==============================] - 0s 18ms/step\n",
            "[0.99944574]\n",
            "58cf5733f5.jpg is a red car\n",
            "1/1 [==============================] - 0s 14ms/step\n",
            "[0.9999924]\n",
            "598ff6a7b0.jpg is a red car\n",
            "1/1 [==============================] - 0s 16ms/step\n",
            "[0.9999974]\n",
            "f45fd76efc.jpg is a red car\n",
            "1/1 [==============================] - 0s 19ms/step\n",
            "[0.99996686]\n",
            "0c8ac10318.jpg is a red car\n",
            "1/1 [==============================] - 0s 15ms/step\n",
            "[0.9999999]\n",
            "6ea23f5ee8.jpg is a red car\n",
            "1/1 [==============================] - 0s 15ms/step\n",
            "[0.9999988]\n",
            "b92f0a30a7.jpg is a red car\n",
            "1/1 [==============================] - 0s 25ms/step\n",
            "[0.99999726]\n",
            "9f7e88bab4.jpg is a red car\n",
            "1/1 [==============================] - 0s 16ms/step\n",
            "[0.9999938]\n",
            "77bb096381.jpg is a red car\n",
            "1/1 [==============================] - 0s 14ms/step\n",
            "[0.99999976]\n",
            "ef805191c2.jpg is a red car\n",
            "1/1 [==============================] - 0s 20ms/step\n",
            "[0.9977755]\n",
            "f195146de0.jpg is a red car\n",
            "1/1 [==============================] - 0s 16ms/step\n",
            "[0.99999714]\n",
            "755ba4edc8.jpg is a red car\n",
            "1/1 [==============================] - 0s 18ms/step\n",
            "[0.99999917]\n",
            "db7c88ea01.jpg is a red car\n",
            "1/1 [==============================] - 0s 21ms/step\n",
            "[0.99999857]\n",
            "440e0f19bf.jpg is a red car\n",
            "1/1 [==============================] - 0s 19ms/step\n",
            "[0.99999964]\n",
            "0df8f813a2.jpg is a red car\n",
            "1/1 [==============================] - 0s 17ms/step\n",
            "[0.9999999]\n",
            "380d56f7d0.jpg is a red car\n",
            "1/1 [==============================] - 0s 18ms/step\n",
            "[1.]\n",
            "8b1ed7e354.jpg is a red car\n",
            "1/1 [==============================] - 0s 17ms/step\n",
            "[1.]\n",
            "79a1f2e882.jpg is a red car\n",
            "1/1 [==============================] - 0s 14ms/step\n",
            "[0.99999523]\n",
            "56783be736.jpg is a red car\n",
            "1/1 [==============================] - 0s 18ms/step\n",
            "[0.9999999]\n",
            "77ac4761b1.jpg is a red car\n",
            "1/1 [==============================] - 0s 18ms/step\n",
            "[0.9999999]\n",
            "5b1f38423d.jpg is a red car\n",
            "1/1 [==============================] - 0s 19ms/step\n",
            "[0.97093606]\n",
            "864b8ab66c.jpg is a red car\n",
            "1/1 [==============================] - 0s 18ms/step\n",
            "[0.99999976]\n",
            "6bfe720ee2.jpg is a red car\n",
            "1/1 [==============================] - 0s 17ms/step\n",
            "[0.9999999]\n",
            "cd7d0a0137.jpg is a red car\n",
            "1/1 [==============================] - 0s 17ms/step\n",
            "[0.9999989]\n",
            "e266a7bfc7.jpg is a red car\n",
            "1/1 [==============================] - 0s 17ms/step\n",
            "[0.9969863]\n",
            "8f4ade2e0e.jpg is a red car\n",
            "1/1 [==============================] - 0s 17ms/step\n",
            "[0.9994211]\n",
            "ea01184493.jpg is a red car\n",
            "1/1 [==============================] - 0s 15ms/step\n",
            "[0.9999994]\n",
            "a362535ff6.jpg is a red car\n",
            "1/1 [==============================] - 0s 19ms/step\n",
            "[0.99999845]\n",
            "5424cbdd31.jpg is a red car\n",
            "1/1 [==============================] - 0s 18ms/step\n",
            "[1.]\n",
            "e96ef684ef.jpg is a red car\n",
            "1/1 [==============================] - 0s 17ms/step\n",
            "[0.9999974]\n",
            "5e2fd187ad.jpg is a red car\n",
            "1/1 [==============================] - 0s 18ms/step\n",
            "[0.9999994]\n",
            "135358467b.jpg is a red car\n",
            "1/1 [==============================] - 0s 19ms/step\n",
            "[0.9999989]\n",
            "20133bb110.jpg is a red car\n",
            "1/1 [==============================] - 0s 17ms/step\n",
            "[0.9999982]\n",
            "37ebbc9c28.jpg is a red car\n",
            "1/1 [==============================] - 0s 15ms/step\n",
            "[1.]\n",
            "e7649e8a7a.jpg is a red car\n",
            "1/1 [==============================] - 0s 16ms/step\n",
            "[0.9836219]\n",
            "3bb01c0486.jpg is a red car\n",
            "1/1 [==============================] - 0s 15ms/step\n",
            "[0.99999905]\n",
            "0d357044c5.jpg is a red car\n",
            "1/1 [==============================] - 0s 19ms/step\n",
            "[0.99999046]\n",
            "182e8791ae.jpg is a red car\n",
            "1/1 [==============================] - 0s 22ms/step\n",
            "[0.99999857]\n",
            "58842af1de.jpg is a red car\n",
            "1/1 [==============================] - 0s 22ms/step\n",
            "[1.]\n",
            "b6e690dc57.jpg is a red car\n",
            "1/1 [==============================] - 0s 15ms/step\n",
            "[0.99997795]\n",
            "f67f0c46c4.jpg is a red car\n",
            "1/1 [==============================] - 0s 15ms/step\n",
            "[1.]\n",
            "e84c27294f.jpg is a red car\n",
            "1/1 [==============================] - 0s 18ms/step\n",
            "[0.9999993]\n",
            "b137c9d7f7.jpg is a red car\n",
            "1/1 [==============================] - 0s 21ms/step\n",
            "[0.99999857]\n",
            "1c05fa87ff.jpg is a red car\n",
            "1/1 [==============================] - 0s 18ms/step\n",
            "[0.999998]\n",
            "f65e94da6c.jpg is a red car\n",
            "1/1 [==============================] - 0s 16ms/step\n",
            "[0.999998]\n",
            "31b73eae23.jpg is a red car\n",
            "1/1 [==============================] - 0s 16ms/step\n",
            "[0.9997197]\n",
            "47614868d3.jpg is a red car\n",
            "1/1 [==============================] - 0s 16ms/step\n",
            "[0.99999344]\n",
            "b9e8359f2c.jpg is a red car\n",
            "1/1 [==============================] - 0s 16ms/step\n",
            "[0.99996865]\n",
            "450deda378.jpg is a red car\n",
            "1/1 [==============================] - 0s 15ms/step\n",
            "[0.99909294]\n",
            "044ed301f3.jpg is a red car\n",
            "1/1 [==============================] - 0s 17ms/step\n",
            "[0.99999845]\n",
            "b4b87e8e93.jpg is a red car\n",
            "1/1 [==============================] - 0s 19ms/step\n",
            "[1.]\n",
            "72f8a1b67c.jpg is a red car\n",
            "1/1 [==============================] - 0s 17ms/step\n",
            "[0.9999999]\n",
            "83ab77c69e.jpg is a red car\n",
            "1/1 [==============================] - 0s 20ms/step\n",
            "[0.9999802]\n",
            "c7a277cfe9.jpg is a red car\n",
            "1/1 [==============================] - 0s 18ms/step\n",
            "[0.99999607]\n",
            "6aaa29c7a3.jpg is a red car\n",
            "1/1 [==============================] - 0s 19ms/step\n",
            "[1.]\n",
            "8322859640.jpg is a red car\n",
            "1/1 [==============================] - 0s 18ms/step\n",
            "[0.9999633]\n",
            "126652c274.jpg is a red car\n",
            "1/1 [==============================] - 0s 21ms/step\n",
            "[0.99999857]\n",
            "80dd14e495.jpg is a red car\n",
            "1/1 [==============================] - 0s 17ms/step\n",
            "[0.9999912]\n",
            "3a8637a1ff.jpg is a red car\n",
            "1/1 [==============================] - 0s 16ms/step\n",
            "[1.]\n",
            "52b2996102.jpg is a red car\n",
            "1/1 [==============================] - 0s 17ms/step\n",
            "[1.]\n",
            "c12324d568.jpg is a red car\n",
            "1/1 [==============================] - 0s 15ms/step\n",
            "[0.9999987]\n",
            "5df879c7ad.jpg is a red car\n",
            "1/1 [==============================] - 0s 17ms/step\n",
            "[0.9999856]\n",
            "0ba3143a2c.jpg is a red car\n",
            "1/1 [==============================] - 0s 16ms/step\n",
            "[0.9998841]\n",
            "7b4ce5d119.jpg is a red car\n",
            "1/1 [==============================] - 0s 16ms/step\n",
            "[0.99999917]\n",
            "1fc0badd4a.jpg is a red car\n",
            "1/1 [==============================] - 0s 16ms/step\n",
            "[0.9893106]\n",
            "57a90c9f82.jpg is a red car\n",
            "1/1 [==============================] - 0s 17ms/step\n",
            "[0.9998783]\n",
            "0b9d8063c5.jpg is a red car\n",
            "1/1 [==============================] - 0s 17ms/step\n",
            "[0.9997869]\n",
            "34cf95be91.jpg is a red car\n",
            "1/1 [==============================] - 0s 20ms/step\n",
            "[0.9999999]\n",
            "26c9341952.jpg is a red car\n",
            "1/1 [==============================] - 0s 16ms/step\n",
            "[0.999997]\n",
            "382e377456.jpg is a red car\n",
            "1/1 [==============================] - 0s 15ms/step\n",
            "[0.99999857]\n",
            "b34edb2e61.jpg is a red car\n",
            "1/1 [==============================] - 0s 19ms/step\n",
            "[0.99991405]\n",
            "5812d51bc4.jpg is a red car\n",
            "1/1 [==============================] - 0s 18ms/step\n",
            "[1.]\n",
            "d4c7d330ed.jpg is a red car\n",
            "1/1 [==============================] - 0s 15ms/step\n",
            "[1.]\n",
            "1e50ae3795.jpg is a red car\n",
            "1/1 [==============================] - 0s 17ms/step\n",
            "[0.99999833]\n",
            "485a638a93.jpg is a red car\n",
            "1/1 [==============================] - 0s 23ms/step\n",
            "[0.9999994]\n",
            "dd6d3e3e40.jpg is a red car\n",
            "1/1 [==============================] - 0s 15ms/step\n",
            "[1.]\n",
            "ac4d91f629.jpg is a red car\n",
            "1/1 [==============================] - 0s 19ms/step\n",
            "[0.9997812]\n",
            "78fbd1e73d.jpg is a red car\n",
            "1/1 [==============================] - 0s 17ms/step\n",
            "[1.]\n",
            "f1143fbee7.jpg is a red car\n",
            "1/1 [==============================] - 0s 19ms/step\n",
            "[0.99999034]\n",
            "4d7e9ffb15.jpg is a red car\n",
            "1/1 [==============================] - 0s 15ms/step\n",
            "[0.99975616]\n",
            "776841630b.jpg is a red car\n",
            "1/1 [==============================] - 0s 16ms/step\n",
            "[0.99427843]\n",
            "ea44e4e379.jpg is a red car\n",
            "1/1 [==============================] - 0s 16ms/step\n",
            "[0.99999464]\n",
            "a57ea3e646.jpg is a red car\n",
            "1/1 [==============================] - 0s 16ms/step\n",
            "[0.9999589]\n",
            "8f8073e6aa.jpg is a red car\n",
            "1/1 [==============================] - 0s 17ms/step\n",
            "[0.99996734]\n",
            "fa2212cdcb.jpg is a red car\n",
            "1/1 [==============================] - 0s 23ms/step\n",
            "[0.9998692]\n",
            "5ffd6fe3e4.jpg is a red car\n",
            "1/1 [==============================] - 0s 17ms/step\n",
            "[0.99996877]\n",
            "2d9d979b8b.jpg is a red car\n",
            "1/1 [==============================] - 0s 19ms/step\n",
            "[0.99999845]\n",
            "f07fa74d9a.jpg is a red car\n",
            "1/1 [==============================] - 0s 18ms/step\n",
            "[0.99999976]\n",
            "3d6b949e84.jpg is a red car\n",
            "1/1 [==============================] - 0s 19ms/step\n",
            "[1.]\n",
            "5bbb7d8bc4.jpg is a red car\n",
            "1/1 [==============================] - 0s 16ms/step\n",
            "[0.9994241]\n",
            "ffad870fd5.jpg is a red car\n",
            "1/1 [==============================] - 0s 25ms/step\n",
            "[1.]\n",
            "d8872ba115.jpg is a red car\n",
            "1/1 [==============================] - 0s 16ms/step\n",
            "[0.9999434]\n",
            "8022dd2e64.jpg is a red car\n",
            "1/1 [==============================] - 0s 18ms/step\n",
            "[0.99999976]\n",
            "efd5a75e51.jpg is a red car\n",
            "1/1 [==============================] - 0s 16ms/step\n",
            "[0.99999785]\n",
            "af84f97372.jpg is a red car\n",
            "1/1 [==============================] - 0s 17ms/step\n",
            "[0.99995244]\n",
            "63d195a819.jpg is a red car\n",
            "1/1 [==============================] - 0s 15ms/step\n",
            "[0.9999989]\n",
            "10fa2af7b6.jpg is a red car\n",
            "1/1 [==============================] - 0s 16ms/step\n",
            "[0.9999938]\n",
            "6cf37d25a0.jpg is a red car\n",
            "1/1 [==============================] - 0s 19ms/step\n",
            "[0.99999654]\n",
            "1446a4b271.jpg is a red car\n",
            "1/1 [==============================] - 0s 15ms/step\n",
            "[0.99998474]\n",
            "4cef79d525.jpg is a red car\n",
            "1/1 [==============================] - 0s 16ms/step\n",
            "[0.9999994]\n",
            "a18dd26cf6.jpg is a red car\n",
            "1/1 [==============================] - 0s 20ms/step\n",
            "[0.9993056]\n",
            "a69190b5c4.jpg is a red car\n",
            "1/1 [==============================] - 0s 16ms/step\n",
            "[0.9999999]\n",
            "488e84554b.jpg is a red car\n",
            "1/1 [==============================] - 0s 19ms/step\n",
            "[0.999982]\n",
            "ac2012d1c0.jpg is a red car\n",
            "1/1 [==============================] - 0s 19ms/step\n",
            "[1.]\n",
            "9776a02bb8.jpg is a red car\n",
            "1/1 [==============================] - 0s 16ms/step\n",
            "[0.9999987]\n",
            "723fa71f5a.jpg is a red car\n",
            "1/1 [==============================] - 0s 15ms/step\n",
            "[0.9999994]\n",
            "1637b33e56.jpg is a red car\n",
            "1/1 [==============================] - 0s 17ms/step\n",
            "[0.99998784]\n",
            "af54df042d.jpg is a red car\n",
            "1/1 [==============================] - 0s 14ms/step\n",
            "[0.99997234]\n",
            "bee067ac82.jpg is a red car\n",
            "1/1 [==============================] - 0s 15ms/step\n",
            "[0.99993384]\n",
            "c551001ce5.jpg is a red car\n",
            "1/1 [==============================] - 0s 18ms/step\n",
            "[0.9994271]\n",
            "a820b47c0a.jpg is a red car\n",
            "1/1 [==============================] - 0s 16ms/step\n",
            "[1.]\n",
            "997df25d52.jpg is a red car\n",
            "1/1 [==============================] - 0s 18ms/step\n",
            "[1.]\n",
            "189df0ea24.jpg is a red car\n",
            "1/1 [==============================] - 0s 15ms/step\n",
            "[1.]\n",
            "abb642d30d.jpg is a red car\n",
            "1/1 [==============================] - 0s 15ms/step\n",
            "[1.]\n",
            "29a8fae88a.jpg is a red car\n",
            "1/1 [==============================] - 0s 14ms/step\n",
            "[1.]\n",
            "80491fc745.jpg is a red car\n",
            "1/1 [==============================] - 0s 16ms/step\n",
            "[1.]\n",
            "c538164529.jpg is a red car\n",
            "1/1 [==============================] - 0s 17ms/step\n",
            "[0.9999958]\n",
            "3a4146b5f8.jpg is a red car\n",
            "1/1 [==============================] - 0s 17ms/step\n",
            "[0.99999547]\n",
            "7361db7c17.jpg is a red car\n",
            "1/1 [==============================] - 0s 16ms/step\n",
            "[1.]\n",
            "dda8145df3.jpg is a red car\n",
            "1/1 [==============================] - 0s 17ms/step\n",
            "[0.9999927]\n",
            "34c055891f.jpg is a red car\n",
            "1/1 [==============================] - 0s 16ms/step\n",
            "[0.99972314]\n",
            "90dd008b25.jpg is a red car\n",
            "1/1 [==============================] - 0s 17ms/step\n",
            "[0.99994886]\n",
            "2fbb1d46b3.jpg is a red car\n",
            "1/1 [==============================] - 0s 19ms/step\n",
            "[0.99988663]\n",
            "b49c8abda9.jpg is a red car\n",
            "1/1 [==============================] - 0s 19ms/step\n",
            "[0.99986506]\n",
            "8037b54fbb.jpg is a red car\n",
            "1/1 [==============================] - 0s 20ms/step\n",
            "[0.99999976]\n",
            "6e4c2fb6d5.jpg is a red car\n",
            "1/1 [==============================] - 0s 21ms/step\n",
            "[0.9999999]\n",
            "86249767a2.jpg is a red car\n",
            "1/1 [==============================] - 0s 19ms/step\n",
            "[0.9990409]\n",
            "a3336500de.jpg is a red car\n",
            "1/1 [==============================] - 0s 17ms/step\n",
            "[0.9999982]\n",
            "a2159b2471.jpg is a red car\n",
            "1/1 [==============================] - 0s 35ms/step\n",
            "[0.9999995]\n",
            "5211e70646.jpg is a red car\n",
            "1/1 [==============================] - 0s 18ms/step\n",
            "[0.22082655]\n",
            "0c098b9636.jpg is a green car\n",
            "1/1 [==============================] - 0s 19ms/step\n",
            "[0.99998415]\n",
            "c7822c9550.jpg is a red car\n",
            "1/1 [==============================] - 0s 16ms/step\n",
            "[0.99999976]\n",
            "cdf67489fb.jpg is a red car\n",
            "1/1 [==============================] - 0s 18ms/step\n",
            "[0.9999999]\n",
            "6d3dba47da.jpg is a red car\n",
            "1/1 [==============================] - 0s 17ms/step\n",
            "[0.9999989]\n",
            "65b5dc677a.jpg is a red car\n",
            "1/1 [==============================] - 0s 16ms/step\n",
            "[1.]\n",
            "f332651718.jpg is a red car\n",
            "Guest green ones: 1\n",
            "Guest red ones: 135\n",
            "Failure rate: 0.7352941176470588\n",
            "The list of bad decision files: ['0c098b9636.jpg']\n"
          ]
        }
      ]
    },
    {
      "cell_type": "markdown",
      "source": [
        "And again we check the one where our estimation was wrong"
      ],
      "metadata": {
        "id": "AqGVcNUjoIAv"
      }
    },
    {
      "cell_type": "code",
      "source": [
        "# Let's have a look, how the bad decision images look like\n",
        "\n",
        "if len(bad_decision_files)>0:\n",
        "\n",
        "  img_path = os.path.join(TEST_PATH, BIN_CLASS_NOK, bad_decision_files[0])\n",
        "  print(img_path) \n",
        "\n",
        "PIL.Image.open(img_path)"
      ],
      "metadata": {
        "colab": {
          "base_uri": "https://localhost:8080/",
          "height": 55
        },
        "id": "uLQi8nTjn9MA",
        "outputId": "5c252b44-66d5-431b-a5cc-a99d51921766"
      },
      "execution_count": 47,
      "outputs": [
        {
          "output_type": "stream",
          "name": "stdout",
          "text": [
            "/content/detection/test/red/0c098b9636.jpg\n"
          ]
        },
        {
          "output_type": "execute_result",
          "data": {
            "text/plain": [
              "<PIL.JpegImagePlugin.JpegImageFile image mode=RGB size=44x20 at 0x7FF519AA9430>"
            ],
            "image/png": "[encoded data removed]"
          },
          "metadata": {},
          "execution_count": 47
        }
      ]
    },
    {
      "cell_type": "markdown",
      "source": [
        "# Conclusion\n",
        "This works pretty well, the pictures with wrong classification are self-explanable. E.g. in red testing set we have also car with totally different color. Because we **didn't clean our data at the very beginning**, solution could be simply to delete such pictures cause it's misleading. So always remember, before any action, check consistency of the input data and clean them accosdingly. With bad inputs model will never be good! :)"
      ],
      "metadata": {
        "id": "jm8vqQyotoy3"
      }
    }
  ]
}